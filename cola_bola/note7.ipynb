{
 "cells": [
  {
   "cell_type": "code",
   "execution_count": null,
   "metadata": {},
   "outputs": [],
   "source": [
    "def paridades(bits):\n",
    "    paridade_1 = (bits[0] + bits[2] + bits[4] + bits[6]) % 2\n",
    "    paridade_2 = (bits[1] + bits[2] + bits[5] + bits[6]) % 2\n",
    "    paridade_3 = (bits[3] + bits[4] + bits[5] + bits[6]) % 2\n",
    "    return [paridade_1, paridade_2, paridade_3]\n",
    "\n",
    "def detectar_erro(bits_de_dados, bits_de_paridade):\n",
    "\n",
    "    paridade_calculada = paridades(bits_de_dados)\n",
    "    erro = [\n",
    "        paridade_calculada[i] != bits_de_paridade[i]\n",
    "        for i in range(3)\n",
    "    ]\n",
    "\n",
    "    if erro == [0, 0, 0]:\n",
    "        return -1  \n",
    "    elif erro == [1, 0, 0]:\n",
    "        return 0  \n",
    "    elif erro == [0, 1, 0]:\n",
    "        return 1 \n",
    "    elif erro == [1, 1, 0]:\n",
    "        return 2  \n",
    "    elif erro == [0, 0, 1]:\n",
    "        return 3  \n",
    "    elif erro == [1, 0, 1]:\n",
    "        return 4  \n",
    "    elif erro == [0, 1, 1]:\n",
    "        return 5 \n",
    "    elif erro == [1, 1, 1]:\n",
    "        return 6 \n",
    "    return -1  \n",
    "\n",
    "# Testando com a sequência fornecida\n",
    "bits_de_dados = [0, 0, 1, 0, 0, 0, 0]\n",
    "bits_de_paridade = [0, 0, 1]\n",
    "indice_erro = detectar_erro(bits_de_dados, bits_de_paridade)\n",
    "print(\"Índice do bit onde houve erro:\", indice_erro)"
   ]
  }
 ],
 "metadata": {
  "kernelspec": {
   "display_name": "Python 3",
   "language": "python",
   "name": "python3"
  },
  "language_info": {
   "name": "python",
   "version": "3.11.9"
  }
 },
 "nbformat": 4,
 "nbformat_minor": 2
}
